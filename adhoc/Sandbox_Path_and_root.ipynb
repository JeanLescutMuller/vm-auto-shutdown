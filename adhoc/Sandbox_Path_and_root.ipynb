{
 "cells": [
  {
   "cell_type": "code",
   "execution_count": 5,
   "id": "b5769f97-ae5d-468f-a9aa-ce1d134619fe",
   "metadata": {
    "tags": []
   },
   "outputs": [],
   "source": [
    "import os\n",
    "from pathlib import Path"
   ]
  },
  {
   "cell_type": "code",
   "execution_count": 11,
   "id": "6fd37d51-c4e4-4eec-8313-b5a43d4d8423",
   "metadata": {
    "tags": []
   },
   "outputs": [],
   "source": [
    "def test(b, fun) :\n",
    "    try : \n",
    "        print(b+' :', fun())\n",
    "    except Exception as e:\n",
    "        print(b+' :', e.__repr__())"
   ]
  },
  {
   "cell_type": "code",
   "execution_count": 13,
   "id": "4e19c7d0-7e44-48d6-84d9-8c105edb8684",
   "metadata": {
    "tags": []
   },
   "outputs": [
    {
     "name": "stdout",
     "output_type": "stream",
     "text": [
      "A : NameError(\"name '__file__' is not defined\")\n",
      "B : NameError(\"name '__file__' is not defined\")\n",
      "C : /home/enrices/auto-shutdown\n",
      "D : /home/enrices/auto-shutdown\n",
      "E : KeyError('_dh')\n"
     ]
    }
   ],
   "source": [
    "test('A', lambda : os.path.abspath(__file__))\n",
    "test('B', lambda : Path(__file__).parent )\n",
    "test('C', lambda : Path.cwd())\n",
    "test('D', lambda : os.path.abspath(\"\"))\n",
    "test('E', lambda : locals()['_dh'][0])"
   ]
  },
  {
   "cell_type": "code",
   "execution_count": null,
   "id": "b946b60b-bb3e-4b1d-a1c7-7d5aecebc7f9",
   "metadata": {},
   "outputs": [],
   "source": [
    "# RESULTS :\n",
    "\n",
    "# Jupyter Notebook :\n",
    "# A : NameError(\"name '__file__' is not defined\")\n",
    "# B : NameError(\"name '__file__' is not defined\")\n",
    "# C : /home/enrices/auto-shutdown\n",
    "# D : /home/enrices/auto-shutdown\n",
    "# E : KeyError('_dh')\n",
    "\n",
    "# Python Script from OUTSIDE file directory :\n",
    "# /opt/anaconda3/bin/python3 /home/enrices/auto-shutdown/Path_and_root.py\n",
    "# A : /home/enrices/auto-shutdown/Path_and_root.py\n",
    "# B : /home/enrices/auto-shutdown\n",
    "# C : /home/enrices # WRONG (execution dir, not file dir)\n",
    "# D : /home/enrices # WRONG (execution dir, not file dir)\n",
    "# e : KeyError('_dh') # Only works in Jupyter"
   ]
  },
  {
   "cell_type": "code",
   "execution_count": null,
   "id": "f739d8ea-cdd5-4d2f-bf19-5502487ffc92",
   "metadata": {},
   "outputs": [],
   "source": []
  },
  {
   "cell_type": "code",
   "execution_count": null,
   "id": "6cf26f7b-dac8-4a03-861d-a3a261ab89d8",
   "metadata": {},
   "outputs": [],
   "source": []
  }
 ],
 "metadata": {
  "kernelspec": {
   "display_name": "Python 3 (ipykernel)",
   "language": "python",
   "name": "python3"
  },
  "language_info": {
   "codemirror_mode": {
    "name": "ipython",
    "version": 3
   },
   "file_extension": ".py",
   "mimetype": "text/x-python",
   "name": "python",
   "nbconvert_exporter": "python",
   "pygments_lexer": "ipython3",
   "version": "3.10.9"
  }
 },
 "nbformat": 4,
 "nbformat_minor": 5
}
