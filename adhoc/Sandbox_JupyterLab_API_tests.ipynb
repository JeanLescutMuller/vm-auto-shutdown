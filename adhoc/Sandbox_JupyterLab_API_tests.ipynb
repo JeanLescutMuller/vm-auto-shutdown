{
 "cells": [
  {
   "cell_type": "code",
   "execution_count": 70,
   "id": "ecaca668-1546-4394-bc2d-36ca13b50570",
   "metadata": {
    "tags": []
   },
   "outputs": [],
   "source": []
  },
  {
   "cell_type": "code",
   "execution_count": 84,
   "id": "20845acf-8ffb-4f35-a368-65c34b2c916a",
   "metadata": {
    "tags": []
   },
   "outputs": [],
   "source": [
    "jupyter_api_url = 'http://127.0.0.1/jupyter' # protocol://ip:port/prefix (all of them can change !)"
   ]
  },
  {
   "cell_type": "code",
   "execution_count": 86,
   "id": "894590bb-569e-4e14-9a93-d5fa130bb359",
   "metadata": {
    "tags": []
   },
   "outputs": [
    {
     "name": "stdout",
     "output_type": "stream",
     "text": [
      "200\n",
      "200\n"
     ]
    }
   ],
   "source": [
    "def authenticated_session() :\n",
    "    # Note : this will authenticate ONLY for the given jupyter_api_url.\n",
    "    # I.E : if using localhost, the session will only be allowed to query API towards localhost... etc...\n",
    "    s = requests.Session()\n",
    "    url = f'{jupyter_api_url}/login?next=%2F'\n",
    "    r = s.get(url)\n",
    "    print(r.status_code)\n",
    "    parsed_html = BeautifulSoup(r.content.decode('utf8'))\n",
    "    _xsrf = parsed_html.body.find('input', attrs={'name':'_xsrf'}).get('value')\n",
    "    r = s.post(url,params = {'_xsrf': _xsrf, 'password': 'jklmjklm34'})\n",
    "    print(r.status_code)\n",
    "    return s\n",
    "\n",
    "# For other mode of authentication (if you're not using passwords for example) please see token\n",
    "# https://jupyterhub.readthedocs.io/en/stable/howto/rest.htmlhttps://jupyterhub.readthedocs.io/en/stable/howto/rest.html\n",
    "\n",
    "s = authenticated_session()"
   ]
  },
  {
   "cell_type": "code",
   "execution_count": 112,
   "id": "d08b0148-4c47-45ab-bf46-3efac775cfcc",
   "metadata": {
    "tags": []
   },
   "outputs": [],
   "source": [
    "resp = s.get(f'{jupyter_api_url}/api/sessions')\n",
    "l_sessions = json.loads(resp.content)\n",
    "most_recent_kernel_activity = max([ d_session['kernel']['last_activity'] for d_session in l_sessions ])\n",
    "is_any_kernel_active = any([ d_session['kernel']['execution_state']=='busy' for d_session in l_sessions ])"
   ]
  },
  {
   "cell_type": "code",
   "execution_count": 93,
   "id": "6ed9b999-0a17-4230-9292-2b31563c9bf5",
   "metadata": {
    "tags": []
   },
   "outputs": [],
   "source": []
  },
  {
   "cell_type": "code",
   "execution_count": 3,
   "id": "9a1be29a-3e11-4152-84be-7d10eafa6a7c",
   "metadata": {
    "tags": []
   },
   "outputs": [
    {
     "name": "stdout",
     "output_type": "stream",
     "text": [
      "200\n"
     ]
    }
   ],
   "source": [
    "import requests\n",
    "from bs4 import BeautifulSoup\n",
    "import json\n",
    "\n",
    "jupyter_api_url = 'http://127.0.0.1/jupyter' # protocol://ip:port/prefix (all of them can change !)\n",
    "\n",
    "s = requests.Session()\n",
    "url = f'{jupyter_api_url}/login?next=%2F'\n",
    "r = s.get(url)\n",
    "print(r.status_code)\n",
    "parsed_html = BeautifulSoup(r.content.decode('utf8'))\n",
    "_xsrf = parsed_html.body.find('input', attrs={'name':'_xsrf'}).get('value')\n",
    "r = s.post(url, params = {'_xsrf': _xsrf, 'password': 'jklmjklm34'})"
   ]
  },
  {
   "cell_type": "code",
   "execution_count": 6,
   "id": "c675d8a1-a1a1-4810-a2d0-e46b035a32e1",
   "metadata": {
    "tags": []
   },
   "outputs": [
    {
     "data": {
      "text/plain": [
       "{'User-Agent': 'python-requests/2.28.1', 'Accept-Encoding': 'gzip, deflate, br', 'Accept': '*/*', 'Connection': 'keep-alive', 'Cookie': '_xsrf=2|d9790d47|4fdb346747fb809fc0641cc5d8c717da|1719837431; username-127-0-0-1=\"2|1:0|10:1719837431|18:username-127-0-0-1|44:MDI2M2M5MWY0MTFhNGY2MGE2NWUzY2FjYzMwN2QzYjY=|ba0d34dcdb0984590ee9a0d44ea11927de0111f9887d091963e6caa541099689\"'}"
      ]
     },
     "execution_count": 6,
     "metadata": {},
     "output_type": "execute_result"
    }
   ],
   "source": [
    "r.request.headers"
   ]
  },
  {
   "cell_type": "code",
   "execution_count": 7,
   "id": "2e07ad88-c3c6-4b60-9174-a0f9e55174aa",
   "metadata": {
    "tags": []
   },
   "outputs": [],
   "source": [
    "s.post(url, params = {'_xsrf': _xsrf, 'password': 'jklmjklm34'})"
   ]
  },
  {
   "cell_type": "code",
   "execution_count": 8,
   "id": "fd04f870-1703-48a5-b41a-129d8cde86d5",
   "metadata": {
    "tags": []
   },
   "outputs": [
    {
     "data": {
      "text/plain": [
       "<Response [200]>"
      ]
     },
     "execution_count": 8,
     "metadata": {},
     "output_type": "execute_result"
    }
   ],
   "source": [
    "s.request('POST', url, params = {'_xsrf': _xsrf, 'password': 'jklmjklm34'})"
   ]
  },
  {
   "cell_type": "code",
   "execution_count": 13,
   "id": "e741e180-f3d6-4f78-a32c-dd066a1ae03c",
   "metadata": {
    "tags": []
   },
   "outputs": [
    {
     "name": "stdout",
     "output_type": "stream",
     "text": [
      "-----------START-----------\n",
      "POST http://127.0.0.1/jupyter/login?next=%2F&_xsrf=2%7Cd9790d47%7C4fdb346747fb809fc0641cc5d8c717da%7C1719837431&password=jklmjklm34\n",
      "Content-Length: 0\n",
      "\n",
      "None\n"
     ]
    }
   ],
   "source": [
    "prepared = requests.Request('POST', url, params = {'_xsrf': _xsrf, 'password': 'jklmjklm34'}).prepare()\n",
    "def pretty_print_POST(req):\n",
    "    \"\"\"\n",
    "    At this point it is completely built and ready\n",
    "    to be fired; it is \"prepared\".\n",
    "\n",
    "    However pay attention at the formatting used in \n",
    "    this function because it is programmed to be pretty \n",
    "    printed and may differ from the actual request.\n",
    "    \"\"\"\n",
    "    print('{}\\n{}\\r\\n{}\\r\\n\\r\\n{}'.format(\n",
    "        '-----------START-----------',\n",
    "        req.method + ' ' + req.url,\n",
    "        '\\r\\n'.join('{}: {}'.format(k, v) for k, v in req.headers.items()),\n",
    "        req.body,\n",
    "    ))\n",
    "\n",
    "pretty_print_POST(prepared)"
   ]
  },
  {
   "cell_type": "code",
   "execution_count": null,
   "id": "4082a0da-308c-4f8a-a5d4-1445d0c426c2",
   "metadata": {},
   "outputs": [],
   "source": []
  },
  {
   "cell_type": "code",
   "execution_count": null,
   "id": "d45e9d89-e0c3-4f03-adcd-194ad9aba807",
   "metadata": {},
   "outputs": [],
   "source": []
  },
  {
   "cell_type": "code",
   "execution_count": null,
   "id": "2115be1c-2efc-4d1e-bffc-6903cf7a0325",
   "metadata": {},
   "outputs": [],
   "source": [
    "req = requests.Request('POST', url, headers={'X-Custom':'Test'}, data='a=1&b=2')\n",
    "prepared = req.prepare()"
   ]
  }
 ],
 "metadata": {
  "kernelspec": {
   "display_name": "Python 3 (ipykernel)",
   "language": "python",
   "name": "python3"
  },
  "language_info": {
   "codemirror_mode": {
    "name": "ipython",
    "version": 3
   },
   "file_extension": ".py",
   "mimetype": "text/x-python",
   "name": "python",
   "nbconvert_exporter": "python",
   "pygments_lexer": "ipython3",
   "version": "3.10.9"
  }
 },
 "nbformat": 4,
 "nbformat_minor": 5
}
